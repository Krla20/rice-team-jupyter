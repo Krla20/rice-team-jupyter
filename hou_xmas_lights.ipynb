{
 "cells": [
  {
   "cell_type": "code",
   "execution_count": 1,
   "metadata": {},
   "outputs": [],
   "source": [
    "# Where to go and see Christmas lights around Houston, TX\n",
    "\n",
    "# Dependencies\n",
    "import requests\n",
    "import json\n",
    "\n",
    "# Google API Key\n",
    "from config import gkey"
   ]
  },
  {
   "cell_type": "code",
   "execution_count": 12,
   "metadata": {},
   "outputs": [
    {
     "name": "stdout",
     "output_type": "stream",
     "text": [
      "\"Christmas lights in Houston, TX\": \n",
      "Place Name: Christmas Lights Houston\n",
      "Address: 1802 Watercrest Dr, Houston, TX 77008, United States\n",
      "Place Name: River Oaks Christmas Lights - 77019\n",
      "Address: River Oaks Blvd, Houston, TX 77019, United States\n",
      "Place Name: Ignite Christmas Lighting\n",
      "Address: 9135 Spring Branch Dr UNIT 202, Houston, TX 77080, United States\n",
      "Place Name: Christmas Lights\n",
      "Address: 5599-5401 Doliver Dr, Houston, TX 77056, United States\n",
      "Place Name: Christmas Lights Unlimited\n",
      "Address: 3733 Westheimer Rd, Houston, TX 77027, United States\n"
     ]
    }
   ],
   "source": [
    "# Find the names and addresses of the top five places where to go and see Christmas lights in Houston, TX.\n",
    "#    Hint: Read about \"Text Search Results\"\n",
    "# (https://developers.google.com/places/web-service/search#TextSearchRequests)\n",
    "my_phrase = \"christmas lights in Houston,TX\"\n",
    "target_url = \"https://maps.googleapis.com/maps/api/place/textsearch/json\"\n",
    "\n",
    "params = {\n",
    "    \"query\": my_phrase,\n",
    "    \"key\": gkey\n",
    "}\n",
    "\n",
    "print('\"Christmas lights in Houston, TX\": ')\n",
    "\n",
    "response = requests.get(target_url, params)\n",
    "\n",
    "happy_places = response.json()\n",
    "# print(json.dumps(happy_places, indent=4, sort_keys=True))\n",
    "\n",
    "counter = 0\n",
    "\n",
    "for place in happy_places[\"results\"]:\n",
    "    print(f'Place Name: {place[\"name\"]}')\n",
    "    print(f'Address: {place[\"formatted_address\"]}')\n",
    "    counter += 1\n",
    "    if counter == 5:\n",
    "        break"
   ]
  },
  {
   "cell_type": "code",
   "execution_count": null,
   "metadata": {},
   "outputs": [],
   "source": []
  }
 ],
 "metadata": {
  "kernelspec": {
   "display_name": "Python 3",
   "language": "python",
   "name": "python3"
  },
  "language_info": {
   "codemirror_mode": {
    "name": "ipython",
    "version": 3
   },
   "file_extension": ".py",
   "mimetype": "text/x-python",
   "name": "python",
   "nbconvert_exporter": "python",
   "pygments_lexer": "ipython3",
   "version": "3.8.3"
  }
 },
 "nbformat": 4,
 "nbformat_minor": 2
}
